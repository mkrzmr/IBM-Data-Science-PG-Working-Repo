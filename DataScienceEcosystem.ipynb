{
 "cells": [
  {
   "cell_type": "markdown",
   "id": "dbc3d747-632e-41ba-b9a1-24da61dfb4bc",
   "metadata": {
    "tags": []
   },
   "source": [
    "# Data Science Tools and Ecosystem"
   ]
  },
  {
   "cell_type": "markdown",
   "id": "d4332be1-06d2-4600-a783-91a127a26952",
   "metadata": {},
   "source": [
    "In this notebook, Data Science Tools and Ecosystem are summarized."
   ]
  },
  {
   "cell_type": "markdown",
   "id": "297680db-3a9c-40e3-93d4-c0973b0cea12",
   "metadata": {},
   "source": [
    "Some of the popular languages that Data Scientists use are:\n",
    "\n",
    "1. Python\n",
    "2. R\n",
    "3. SQL"
   ]
  },
  {
   "cell_type": "markdown",
   "id": "4d2baedc-c09b-4f0c-8291-d8a8a86bdb42",
   "metadata": {},
   "source": [
    "Some of the commonly used libraries used by Data Scientists include:\n",
    "\n",
    "1. Tensorflow\n",
    "2. Pandas\n",
    "3. PyTorch"
   ]
  },
  {
   "cell_type": "markdown",
   "id": "ee2d7036-8acb-4a10-9458-d3abe765bfef",
   "metadata": {
    "tags": []
   },
   "source": [
    "|Data Science Tools|\n",
    "-------------------\n",
    "|Jupyter|\n",
    "|R Studio|\n",
    "|Mathlab|"
   ]
  },
  {
   "cell_type": "markdown",
   "id": "4d1347ef-67c4-4514-b224-c066d10b7c10",
   "metadata": {},
   "source": [
    "### Below are a few examples of evaluating arithmetic expressions in Python"
   ]
  },
  {
   "cell_type": "code",
   "execution_count": 6,
   "id": "ecc57582-c8bb-4d3b-ba1b-335f5ea795ae",
   "metadata": {
    "tags": []
   },
   "outputs": [
    {
     "data": {
      "text/plain": [
       "17"
      ]
     },
     "execution_count": 6,
     "metadata": {},
     "output_type": "execute_result"
    }
   ],
   "source": [
    "# This a simple arithmetic expression to mutiply then add integers\n",
    "(3*4)+5"
   ]
  },
  {
   "cell_type": "code",
   "execution_count": 7,
   "id": "9e25f4b7-757d-4a5a-8c90-5d41f09f9b43",
   "metadata": {
    "tags": []
   },
   "outputs": [
    {
     "data": {
      "text/plain": [
       "3.3333333333333335"
      ]
     },
     "execution_count": 7,
     "metadata": {},
     "output_type": "execute_result"
    }
   ],
   "source": [
    "# This will convert 200 minutes to hours by diving by 60\n",
    "200/60"
   ]
  },
  {
   "cell_type": "markdown",
   "id": "2498caa7-6908-4e1a-b3c1-f05a17645f92",
   "metadata": {},
   "source": [
    "**Objectives**\n",
    "\n",
    "- List languages\n",
    "- Show simple maths operations\n",
    "- Use markdown"
   ]
  },
  {
   "cell_type": "markdown",
   "id": "186f6298-a563-4c2d-991c-356e189921e8",
   "metadata": {},
   "source": [
    "## Author\n",
    "Michael Kurzmeier"
   ]
  },
  {
   "cell_type": "code",
   "execution_count": null,
   "id": "72409f21-7d4a-4ad9-b25f-c1e39bdcd8dc",
   "metadata": {},
   "outputs": [],
   "source": []
  }
 ],
 "metadata": {
  "kernelspec": {
   "display_name": "Python",
   "language": "python",
   "name": "conda-env-python-py"
  },
  "language_info": {
   "codemirror_mode": {
    "name": "ipython",
    "version": 3
   },
   "file_extension": ".py",
   "mimetype": "text/x-python",
   "name": "python",
   "nbconvert_exporter": "python",
   "pygments_lexer": "ipython3",
   "version": "3.7.12"
  }
 },
 "nbformat": 4,
 "nbformat_minor": 5
}
